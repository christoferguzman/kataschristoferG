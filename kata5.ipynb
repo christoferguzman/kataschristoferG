{
 "cells": [
  {
   "cell_type": "markdown",
   "metadata": {},
   "source": [
    "# kata #5"
   ]
  },
  {
   "cell_type": "code",
   "execution_count": 4,
   "metadata": {},
   "outputs": [
    {
     "name": "stdout",
     "output_type": "stream",
     "text": [
      "la diferencia de distancia es : 628949330\n",
      "la diferencia de distancia en millas es : 390577533.93\n"
     ]
    }
   ],
   "source": [
    "tierra = 149597870\n",
    "jupiter = 778547200\n",
    "dif = ((tierra - jupiter)*-1)\n",
    "difmillas = (dif * 0.621)\n",
    "print (\"la diferencia de distancia es : \" + str(dif))\n",
    "print(\"la diferencia de distancia en millas es : \" + str(difmillas))"
   ]
  },
  {
   "cell_type": "code",
   "execution_count": 7,
   "metadata": {},
   "outputs": [
    {
     "name": "stdout",
     "output_type": "stream",
     "text": [
      "5\n",
      "3.105\n"
     ]
    }
   ],
   "source": [
    "planeta1 = input(\"introduce la distancia del primer planeta\")\n",
    "planeta2 = input(\"introduce la distancia del segundo planeta\")\n",
    "\n",
    "planeta1 = int(planeta1)\n",
    "planeta2 = int(planeta2)\n",
    "\n",
    "res = (planeta1 - planeta2)\n",
    "print(abs(res))\n",
    "\n",
    "resm = (res * 0.621)\n",
    "print (resm)"
   ]
  }
 ],
 "metadata": {
  "interpreter": {
   "hash": "d48f2245f80ddd3ea42b2a6074381795af1a24cc0afa2c68de0e1c41923cbf91"
  },
  "kernelspec": {
   "display_name": "Python 3.10.2 64-bit",
   "language": "python",
   "name": "python3"
  },
  "language_info": {
   "codemirror_mode": {
    "name": "ipython",
    "version": 3
   },
   "file_extension": ".py",
   "mimetype": "text/x-python",
   "name": "python",
   "nbconvert_exporter": "python",
   "pygments_lexer": "ipython3",
   "version": "3.10.2"
  },
  "orig_nbformat": 4
 },
 "nbformat": 4,
 "nbformat_minor": 2
}
